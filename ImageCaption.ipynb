{
 "cells": [
  {
   "cell_type": "code",
   "execution_count": 87,
   "id": "592bf2bd-fc8f-4030-9a63-01bea04e6ec6",
   "metadata": {},
   "outputs": [],
   "source": [
    "#read text captions\n",
    "def readTextFile(path):\n",
    "    with open(path) as f:\n",
    "        captions=f.read()#readlines is also functions\n",
    "    return captions"
   ]
  },
  {
   "cell_type": "code",
   "execution_count": 106,
   "id": "1185dda0-7aa1-4e3b-b2f7-181cb4a3ed76",
   "metadata": {},
   "outputs": [],
   "source": [
    "import os\n",
    "\n",
    "# print(\"current working dir\",os.getcwd())\n",
    "captions=readTextFile(\"./flickr/Flickr8k.token.txt\")\n",
    "# len(captions.split(\"\\n\"))\n",
    "captions=captions.split(\"\\n\")[:-1]"
   ]
  },
  {
   "cell_type": "code",
   "execution_count": 107,
   "id": "b57ce6c5-c898-4180-8844-c1be79759e9c",
   "metadata": {},
   "outputs": [
    {
     "data": {
      "text/plain": [
       "40460"
      ]
     },
     "execution_count": 107,
     "metadata": {},
     "output_type": "execute_result"
    }
   ],
   "source": [
    "len(captions)"
   ]
  },
  {
   "cell_type": "code",
   "execution_count": 114,
   "id": "d733cc15-d50b-497b-9f3c-b03cf1f1f795",
   "metadata": {},
   "outputs": [
    {
     "name": "stdout",
     "output_type": "stream",
     "text": [
      "1000268201_693b08cb0e\n",
      "A child in a pink dress is climbing up a set of stairs in an entry way .\n"
     ]
    }
   ],
   "source": [
    "first,second=captions[0].split(\"\\t\")#first part is image id and remaining is descritpion\n",
    "print(first.split(\".\")[0])#this gives imageid\n",
    "print(second)"
   ]
  },
  {
   "cell_type": "code",
   "execution_count": 116,
   "id": "9bc259bc-d7cd-4487-a8d2-78a539261891",
   "metadata": {},
   "outputs": [],
   "source": [
    "#Dictionary to Map each image with list of captions it has\n",
    "\n",
    "descriptions={}\n",
    "\n",
    "for x in captions:\n",
    "    first,second=x.split(\"\\t\")#image id and descriptn\n",
    "    img_name=first.split(\".\")[0]\n",
    "\n",
    "#if the image id is already present or not\n",
    "    if descriptions.get(img_name) is None:\n",
    "        descriptions[img_name]=[]#intially image has empty list for captions\n",
    "\n",
    "    #already present then append descriptio to that list\n",
    "    descriptions[img_name].append(second)"
   ]
  },
  {
   "cell_type": "code",
   "execution_count": 117,
   "id": "cf4c1f9c-02af-424f-bd4b-c3238317a553",
   "metadata": {},
   "outputs": [
    {
     "data": {
      "text/plain": [
       "['A child in a pink dress is climbing up a set of stairs in an entry way .',\n",
       " 'A girl going into a wooden building .',\n",
       " 'A little girl climbing into a wooden playhouse .',\n",
       " 'A little girl climbing the stairs to her playhouse .',\n",
       " 'A little girl in a pink dress going into a wooden cabin .']"
      ]
     },
     "execution_count": 117,
     "metadata": {},
     "output_type": "execute_result"
    }
   ],
   "source": [
    "descriptions[\"1000268201_693b08cb0e\"]"
   ]
  }
 ],
 "metadata": {
  "kernelspec": {
   "display_name": "Python 3 (ipykernel)",
   "language": "python",
   "name": "python3"
  },
  "language_info": {
   "codemirror_mode": {
    "name": "ipython",
    "version": 3
   },
   "file_extension": ".py",
   "mimetype": "text/x-python",
   "name": "python",
   "nbconvert_exporter": "python",
   "pygments_lexer": "ipython3",
   "version": "3.8.10"
  }
 },
 "nbformat": 4,
 "nbformat_minor": 5
}
